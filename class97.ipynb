{
  "nbformat": 4,
  "nbformat_minor": 0,
  "metadata": {
    "colab": {
      "provenance": [],
      "authorship_tag": "ABX9TyMaB92ON2MPdOHL8ximuxk1",
      "include_colab_link": true
    },
    "kernelspec": {
      "name": "python3",
      "display_name": "Python 3"
    },
    "language_info": {
      "name": "python"
    }
  },
  "cells": [
    {
      "cell_type": "markdown",
      "metadata": {
        "id": "view-in-github",
        "colab_type": "text"
      },
      "source": [
        "<a href=\"https://colab.research.google.com/github/ankita2585/c31/blob/main/class97.ipynb\" target=\"_parent\"><img src=\"https://colab.research.google.com/assets/colab-badge.svg\" alt=\"Open In Colab\"/></a>"
      ]
    },
    {
      "cell_type": "code",
      "execution_count": null,
      "metadata": {
        "colab": {
          "base_uri": "https://localhost:8080/"
        },
        "id": "RL33kqenuyOI",
        "outputId": "e2769985-70b1-47ee-ae03-cf7880d7da95"
      },
      "outputs": [
        {
          "output_type": "stream",
          "name": "stdout",
          "text": [
            "5\n"
          ]
        }
      ],
      "source": [
        "num1 = 5\n",
        "print(num1)"
      ]
    },
    {
      "cell_type": "code",
      "source": [
        "celcius = 32.5\n",
        "fehrenheit = (9/5*(celcius))+32\n",
        "print(fehrenheit)"
      ],
      "metadata": {
        "colab": {
          "base_uri": "https://localhost:8080/"
        },
        "id": "enT2MWoexLcz",
        "outputId": "bc2db67b-939b-48f7-ff27-0a01b559c8bb"
      },
      "execution_count": null,
      "outputs": [
        {
          "output_type": "stream",
          "name": "stdout",
          "text": [
            "90.5\n"
          ]
        }
      ]
    },
    {
      "cell_type": "code",
      "source": [
        "def convert_to_fehrenheit (celcius):\n",
        "  fehrenheit = (9/5*(celcius))+32\n",
        "  print(fehrenheit)\n",
        "\n",
        "convert_to_fehrenheit (32.5)\n"
      ],
      "metadata": {
        "colab": {
          "base_uri": "https://localhost:8080/"
        },
        "id": "2nE-XWuvyrWA",
        "outputId": "329c4358-e32b-4af4-9d7d-97d02f63d491"
      },
      "execution_count": null,
      "outputs": [
        {
          "output_type": "stream",
          "name": "stdout",
          "text": [
            "90.5\n"
          ]
        }
      ]
    },
    {
      "cell_type": "code",
      "source": [
        "cels = input()\n",
        "print(cels)"
      ],
      "metadata": {
        "colab": {
          "base_uri": "https://localhost:8080/"
        },
        "id": "ciCkf0wqzRm1",
        "outputId": "3f2872a8-fd98-47db-f105-4875c2c03ef0"
      },
      "execution_count": null,
      "outputs": [
        {
          "output_type": "stream",
          "name": "stdout",
          "text": [
            "hi\n",
            "hi\n"
          ]
        }
      ]
    },
    {
      "cell_type": "code",
      "source": [
        "cels = input()\n",
        "print(cels)\n",
        "type(cels)\n",
        "convert_to_fehrenheit(float(cels))\n"
      ],
      "metadata": {
        "colab": {
          "base_uri": "https://localhost:8080/"
        },
        "id": "weNeOCa6ztDR",
        "outputId": "a310bd49-e030-45dd-82a7-4c41bc806e67"
      },
      "execution_count": null,
      "outputs": [
        {
          "output_type": "stream",
          "name": "stdout",
          "text": [
            "32.5\n",
            "32.5\n",
            "90.5\n"
          ]
        }
      ]
    },
    {
      "cell_type": "code",
      "source": [
        "cels = input(\"enter the temp in celcius\")\n"
      ],
      "metadata": {
        "colab": {
          "base_uri": "https://localhost:8080/"
        },
        "id": "Xz3tKjVa0NBI",
        "outputId": "5747d287-abfe-4ece-c744-1a9c763e4a47"
      },
      "execution_count": null,
      "outputs": [
        {
          "name": "stdout",
          "output_type": "stream",
          "text": [
            "enter the temp in celcius32.5\n"
          ]
        }
      ]
    },
    {
      "cell_type": "code",
      "source": [
        "def add(x,y):\n",
        "  return x+y\n"
      ],
      "metadata": {
        "id": "Xg4A_szG1NNY"
      },
      "execution_count": null,
      "outputs": []
    },
    {
      "cell_type": "code",
      "source": [
        "def subtract(x,y):\n",
        "  return x-y"
      ],
      "metadata": {
        "id": "YElbyL-l1XLV"
      },
      "execution_count": null,
      "outputs": []
    },
    {
      "cell_type": "code",
      "source": [
        "def add(x,y):\n",
        "  return x+y\n",
        "\n",
        "def subtract(x,y):\n",
        "  return x-y\n",
        "\n",
        "def calculate (options):\n",
        "  if(options == '1' or options == '2'):\n",
        "    num1 = float(input(\"enter 1st number:\"))\n",
        "    num2 = float(input(\"enter 2nd number:\"))\n",
        "\n",
        "    if options=='1':\n",
        "      print(\"sum\",num1,\"+\",num2,\"=\",add(num1,num2))\n",
        "    elif options=='2':\n",
        "      print(\"subtract\",num1,\"-\",num2,\"=\",subtract(num1,num2))\n",
        "\n",
        "  else:\n",
        "    print(\"invalid input\")\n",
        "\n",
        "\n",
        "print(\"choose operation\")\n",
        "print(\"1 add\")\n",
        "print(\"2 subtract\")\n",
        "\n",
        "options = input(\"choose operations(1/2)\")\n",
        "calculate(options)\n",
        "\n"
      ],
      "metadata": {
        "colab": {
          "base_uri": "https://localhost:8080/"
        },
        "id": "khgPW2M51o7F",
        "outputId": "27a75bde-be1e-4349-ef59-b2007d802829"
      },
      "execution_count": null,
      "outputs": [
        {
          "output_type": "stream",
          "name": "stdout",
          "text": [
            "choose operation\n",
            "1 add\n",
            "2 subtract\n",
            "choose operations(1/2)1\n",
            "enter 1st number:5\n",
            "enter 2nd number:8\n",
            "sum 5.0 + 8.0 = 13.0\n"
          ]
        }
      ]
    },
    {
      "cell_type": "code",
      "source": [
        "type(num1)"
      ],
      "metadata": {
        "colab": {
          "base_uri": "https://localhost:8080/"
        },
        "id": "yBVQTDohwOky",
        "outputId": "09df4ab6-da5a-47ac-fb8b-d926f5537385"
      },
      "execution_count": null,
      "outputs": [
        {
          "output_type": "execute_result",
          "data": {
            "text/plain": [
              "int"
            ]
          },
          "metadata": {},
          "execution_count": 2
        }
      ]
    }
  ]
}